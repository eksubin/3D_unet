{
 "cells": [
  {
   "cell_type": "code",
   "execution_count": 6,
   "id": "02aab708",
   "metadata": {},
   "outputs": [],
   "source": [
    "#!pip install patchify\n",
    "#!pip install segmentation-models-3D\n",
    "#!pip install classification-models-3D\n",
    "#!pip install keras_applications \n",
    "#!pip install keras_preprocessing\n",
    "#!pip install efficientnet-3D\n",
    "#!pip install pynrrd"
   ]
  },
  {
   "cell_type": "code",
   "execution_count": 1,
   "id": "45d6ed6b",
   "metadata": {},
   "outputs": [],
   "source": [
    "import tensorflow as tf # used tensorflow gpu 2.2.0 , cuda 10.1 , python 3.6"
   ]
  },
  {
   "cell_type": "code",
   "execution_count": 2,
   "id": "1b39bdac",
   "metadata": {
    "scrolled": true
   },
   "outputs": [
    {
     "name": "stderr",
     "output_type": "stream",
     "text": [
      "2021-09-13 18:40:13.258250: I tensorflow/stream_executor/platform/default/dso_loader.cc:44] Successfully opened dynamic library libcuda.so.1\n",
      "2021-09-13 18:40:13.308881: I tensorflow/core/common_runtime/gpu/gpu_device.cc:1561] Found device 0 with properties: \n",
      "pciBusID: 0000:d8:00.0 name: GeForce RTX 2080 Ti computeCapability: 7.5\n",
      "coreClock: 1.545GHz coreCount: 68 deviceMemorySize: 10.76GiB deviceMemoryBandwidth: 573.69GiB/s\n",
      "2021-09-13 18:40:13.309228: I tensorflow/stream_executor/platform/default/dso_loader.cc:44] Successfully opened dynamic library libcudart.so.10.1\n",
      "2021-09-13 18:40:13.311992: I tensorflow/stream_executor/platform/default/dso_loader.cc:44] Successfully opened dynamic library libcublas.so.10\n",
      "2021-09-13 18:40:13.314749: I tensorflow/stream_executor/platform/default/dso_loader.cc:44] Successfully opened dynamic library libcufft.so.10\n",
      "2021-09-13 18:40:13.315113: I tensorflow/stream_executor/platform/default/dso_loader.cc:44] Successfully opened dynamic library libcurand.so.10\n",
      "2021-09-13 18:40:13.318235: I tensorflow/stream_executor/platform/default/dso_loader.cc:44] Successfully opened dynamic library libcusolver.so.10\n",
      "2021-09-13 18:40:13.319684: I tensorflow/stream_executor/platform/default/dso_loader.cc:44] Successfully opened dynamic library libcusparse.so.10\n",
      "2021-09-13 18:40:13.325628: I tensorflow/stream_executor/platform/default/dso_loader.cc:44] Successfully opened dynamic library libcudnn.so.7\n",
      "2021-09-13 18:40:13.327311: I tensorflow/core/common_runtime/gpu/gpu_device.cc:1703] Adding visible gpu devices: 0\n"
     ]
    },
    {
     "data": {
      "text/plain": [
       "[PhysicalDevice(name='/physical_device:CPU:0', device_type='CPU'),\n",
       " PhysicalDevice(name='/physical_device:XLA_CPU:0', device_type='XLA_CPU'),\n",
       " PhysicalDevice(name='/physical_device:XLA_GPU:0', device_type='XLA_GPU'),\n",
       " PhysicalDevice(name='/physical_device:GPU:0', device_type='GPU')]"
      ]
     },
     "execution_count": 2,
     "metadata": {},
     "output_type": "execute_result"
    }
   ],
   "source": [
    "tf.config.list_physical_devices()"
   ]
  },
  {
   "cell_type": "code",
   "execution_count": 3,
   "id": "a78967bb",
   "metadata": {},
   "outputs": [
    {
     "name": "stdout",
     "output_type": "stream",
     "text": [
      "2.2.0\n",
      "2.3.0-tf\n"
     ]
    }
   ],
   "source": [
    "from tensorflow import keras\n",
    "print(tf.__version__)\n",
    "print(keras.__version__)"
   ]
  },
  {
   "cell_type": "markdown",
   "id": "d999957d",
   "metadata": {},
   "source": [
    "## Load all the required libraries"
   ]
  },
  {
   "cell_type": "code",
   "execution_count": 5,
   "id": "ed4e2f4b",
   "metadata": {},
   "outputs": [],
   "source": [
    "import segmentation_models_3D as sm\n",
    "from skimage import io\n",
    "from patchify import patchify, unpatchify\n",
    "import numpy as np\n",
    "from matplotlib import pyplot as plt\n",
    "from tensorflow.keras import backend as K\n",
    "from tensorflow.keras.utils import to_categorical\n",
    "from sklearn.model_selection import train_test_split"
   ]
  },
  {
   "cell_type": "markdown",
   "id": "ef4abcd6",
   "metadata": {},
   "source": [
    "### Load the training data"
   ]
  },
  {
   "cell_type": "code",
   "execution_count": 12,
   "id": "fc9a4be6",
   "metadata": {},
   "outputs": [
    {
     "data": {
      "text/plain": [
       "(128, 128, 128)"
      ]
     },
     "execution_count": 12,
     "metadata": {},
     "output_type": "execute_result"
    }
   ],
   "source": [
    "#load images\n",
    "import nrrd\n",
    "image, meta  = nrrd.read('/home/erattakulangara/hpchome/DeepLearningAlgo/2021_3D_unet/data/train/WA/WA_scan.nrrd', index_order='C')\n",
    "image.shape"
   ]
  },
  {
   "cell_type": "code",
   "execution_count": 13,
   "id": "0f25b22b",
   "metadata": {},
   "outputs": [
    {
     "data": {
      "text/plain": [
       "((5, 5, 5, 64, 64, 64), (128, 128, 128), (128, 128, 128))"
      ]
     },
     "execution_count": 13,
     "metadata": {},
     "output_type": "execute_result"
    }
   ],
   "source": [
    "img_patches = patchify(image,(64,64,64,), step=16)\n",
    "img_patches.shape, image.shape, image.shape"
   ]
  },
  {
   "cell_type": "code",
   "execution_count": 2,
   "id": "f75d9fa7",
   "metadata": {},
   "outputs": [],
   "source": [
    "!git remote add origin https://github.com/eksubin/3D_unet.git"
   ]
  },
  {
   "cell_type": "code",
   "execution_count": null,
   "id": "7e194246",
   "metadata": {},
   "outputs": [],
   "source": []
  }
 ],
 "metadata": {
  "kernelspec": {
   "display_name": "unet3D",
   "language": "python",
   "name": "unet3d"
  },
  "language_info": {
   "codemirror_mode": {
    "name": "ipython",
    "version": 3
   },
   "file_extension": ".py",
   "mimetype": "text/x-python",
   "name": "python",
   "nbconvert_exporter": "python",
   "pygments_lexer": "ipython3",
   "version": "3.8.10"
  }
 },
 "nbformat": 4,
 "nbformat_minor": 5
}
